{
  "nbformat": 4,
  "nbformat_minor": 0,
  "metadata": {
    "colab": {
      "provenance": []
    },
    "kernelspec": {
      "name": "python3",
      "display_name": "Python 3"
    },
    "language_info": {
      "name": "python"
    }
  },
  "cells": [
    {
      "cell_type": "code",
      "source": [
        "!git clone https://github.com/gabrielagcam/Detec-o-precoce-de-AVCs.git"
      ],
      "metadata": {
        "colab": {
          "base_uri": "https://localhost:8080/"
        },
        "id": "qjNRGNok0dpl",
        "outputId": "e26f3e77-2045-4aa0-c605-42f1db00ee19"
      },
      "execution_count": 34,
      "outputs": [
        {
          "output_type": "stream",
          "name": "stdout",
          "text": [
            "fatal: destination path 'Detec-o-precoce-de-AVCs' already exists and is not an empty directory.\n"
          ]
        }
      ]
    },
    {
      "cell_type": "code",
      "execution_count": 35,
      "metadata": {
        "colab": {
          "base_uri": "https://localhost:8080/"
        },
        "id": "842W6GppdGjA",
        "outputId": "d4b74888-4ba3-46db-fb21-43b9b1295de5"
      },
      "outputs": [
        {
          "output_type": "stream",
          "name": "stdout",
          "text": [
            "Requirement already satisfied: tensorflow_decision_forests in /usr/local/lib/python3.11/dist-packages (1.12.0)\n",
            "Requirement already satisfied: numpy in /usr/local/lib/python3.11/dist-packages (from tensorflow_decision_forests) (2.0.2)\n",
            "Requirement already satisfied: pandas in /usr/local/lib/python3.11/dist-packages (from tensorflow_decision_forests) (2.2.2)\n",
            "Requirement already satisfied: tensorflow==2.19.0 in /usr/local/lib/python3.11/dist-packages (from tensorflow_decision_forests) (2.19.0)\n",
            "Requirement already satisfied: six in /usr/local/lib/python3.11/dist-packages (from tensorflow_decision_forests) (1.17.0)\n",
            "Requirement already satisfied: absl_py in /usr/local/lib/python3.11/dist-packages (from tensorflow_decision_forests) (1.4.0)\n",
            "Requirement already satisfied: wheel in /usr/local/lib/python3.11/dist-packages (from tensorflow_decision_forests) (0.45.1)\n",
            "Requirement already satisfied: wurlitzer in /usr/local/lib/python3.11/dist-packages (from tensorflow_decision_forests) (3.1.1)\n",
            "Requirement already satisfied: tf_keras~=2.19 in /usr/local/lib/python3.11/dist-packages (from tensorflow_decision_forests) (2.19.0)\n",
            "Requirement already satisfied: ydf>=0.11.0 in /usr/local/lib/python3.11/dist-packages (from tensorflow_decision_forests) (0.11.0)\n",
            "Requirement already satisfied: astunparse>=1.6.0 in /usr/local/lib/python3.11/dist-packages (from tensorflow==2.19.0->tensorflow_decision_forests) (1.6.3)\n",
            "Requirement already satisfied: flatbuffers>=24.3.25 in /usr/local/lib/python3.11/dist-packages (from tensorflow==2.19.0->tensorflow_decision_forests) (25.2.10)\n",
            "Requirement already satisfied: gast!=0.5.0,!=0.5.1,!=0.5.2,>=0.2.1 in /usr/local/lib/python3.11/dist-packages (from tensorflow==2.19.0->tensorflow_decision_forests) (0.6.0)\n",
            "Requirement already satisfied: google-pasta>=0.1.1 in /usr/local/lib/python3.11/dist-packages (from tensorflow==2.19.0->tensorflow_decision_forests) (0.2.0)\n",
            "Requirement already satisfied: libclang>=13.0.0 in /usr/local/lib/python3.11/dist-packages (from tensorflow==2.19.0->tensorflow_decision_forests) (18.1.1)\n",
            "Requirement already satisfied: opt-einsum>=2.3.2 in /usr/local/lib/python3.11/dist-packages (from tensorflow==2.19.0->tensorflow_decision_forests) (3.4.0)\n",
            "Requirement already satisfied: packaging in /usr/local/lib/python3.11/dist-packages (from tensorflow==2.19.0->tensorflow_decision_forests) (24.2)\n",
            "Requirement already satisfied: protobuf!=4.21.0,!=4.21.1,!=4.21.2,!=4.21.3,!=4.21.4,!=4.21.5,<6.0.0dev,>=3.20.3 in /usr/local/lib/python3.11/dist-packages (from tensorflow==2.19.0->tensorflow_decision_forests) (5.29.4)\n",
            "Requirement already satisfied: requests<3,>=2.21.0 in /usr/local/lib/python3.11/dist-packages (from tensorflow==2.19.0->tensorflow_decision_forests) (2.32.3)\n",
            "Requirement already satisfied: setuptools in /usr/local/lib/python3.11/dist-packages (from tensorflow==2.19.0->tensorflow_decision_forests) (75.1.0)\n",
            "Requirement already satisfied: termcolor>=1.1.0 in /usr/local/lib/python3.11/dist-packages (from tensorflow==2.19.0->tensorflow_decision_forests) (2.5.0)\n",
            "Requirement already satisfied: typing-extensions>=3.6.6 in /usr/local/lib/python3.11/dist-packages (from tensorflow==2.19.0->tensorflow_decision_forests) (4.12.2)\n",
            "Requirement already satisfied: wrapt>=1.11.0 in /usr/local/lib/python3.11/dist-packages (from tensorflow==2.19.0->tensorflow_decision_forests) (1.17.2)\n",
            "Requirement already satisfied: grpcio<2.0,>=1.24.3 in /usr/local/lib/python3.11/dist-packages (from tensorflow==2.19.0->tensorflow_decision_forests) (1.71.0)\n",
            "Requirement already satisfied: tensorboard~=2.19.0 in /usr/local/lib/python3.11/dist-packages (from tensorflow==2.19.0->tensorflow_decision_forests) (2.19.0)\n",
            "Requirement already satisfied: keras>=3.5.0 in /usr/local/lib/python3.11/dist-packages (from tensorflow==2.19.0->tensorflow_decision_forests) (3.8.0)\n",
            "Requirement already satisfied: h5py>=3.11.0 in /usr/local/lib/python3.11/dist-packages (from tensorflow==2.19.0->tensorflow_decision_forests) (3.13.0)\n",
            "Requirement already satisfied: ml-dtypes<1.0.0,>=0.5.1 in /usr/local/lib/python3.11/dist-packages (from tensorflow==2.19.0->tensorflow_decision_forests) (0.5.1)\n",
            "Requirement already satisfied: tensorflow-io-gcs-filesystem>=0.23.1 in /usr/local/lib/python3.11/dist-packages (from tensorflow==2.19.0->tensorflow_decision_forests) (0.37.1)\n",
            "Requirement already satisfied: python-dateutil>=2.8.2 in /usr/local/lib/python3.11/dist-packages (from pandas->tensorflow_decision_forests) (2.8.2)\n",
            "Requirement already satisfied: pytz>=2020.1 in /usr/local/lib/python3.11/dist-packages (from pandas->tensorflow_decision_forests) (2025.1)\n",
            "Requirement already satisfied: tzdata>=2022.7 in /usr/local/lib/python3.11/dist-packages (from pandas->tensorflow_decision_forests) (2025.1)\n",
            "Requirement already satisfied: rich in /usr/local/lib/python3.11/dist-packages (from keras>=3.5.0->tensorflow==2.19.0->tensorflow_decision_forests) (13.9.4)\n",
            "Requirement already satisfied: namex in /usr/local/lib/python3.11/dist-packages (from keras>=3.5.0->tensorflow==2.19.0->tensorflow_decision_forests) (0.0.8)\n",
            "Requirement already satisfied: optree in /usr/local/lib/python3.11/dist-packages (from keras>=3.5.0->tensorflow==2.19.0->tensorflow_decision_forests) (0.14.1)\n",
            "Requirement already satisfied: charset-normalizer<4,>=2 in /usr/local/lib/python3.11/dist-packages (from requests<3,>=2.21.0->tensorflow==2.19.0->tensorflow_decision_forests) (3.4.1)\n",
            "Requirement already satisfied: idna<4,>=2.5 in /usr/local/lib/python3.11/dist-packages (from requests<3,>=2.21.0->tensorflow==2.19.0->tensorflow_decision_forests) (3.10)\n",
            "Requirement already satisfied: urllib3<3,>=1.21.1 in /usr/local/lib/python3.11/dist-packages (from requests<3,>=2.21.0->tensorflow==2.19.0->tensorflow_decision_forests) (2.3.0)\n",
            "Requirement already satisfied: certifi>=2017.4.17 in /usr/local/lib/python3.11/dist-packages (from requests<3,>=2.21.0->tensorflow==2.19.0->tensorflow_decision_forests) (2025.1.31)\n",
            "Requirement already satisfied: markdown>=2.6.8 in /usr/local/lib/python3.11/dist-packages (from tensorboard~=2.19.0->tensorflow==2.19.0->tensorflow_decision_forests) (3.7)\n",
            "Requirement already satisfied: tensorboard-data-server<0.8.0,>=0.7.0 in /usr/local/lib/python3.11/dist-packages (from tensorboard~=2.19.0->tensorflow==2.19.0->tensorflow_decision_forests) (0.7.2)\n",
            "Requirement already satisfied: werkzeug>=1.0.1 in /usr/local/lib/python3.11/dist-packages (from tensorboard~=2.19.0->tensorflow==2.19.0->tensorflow_decision_forests) (3.1.3)\n",
            "Requirement already satisfied: MarkupSafe>=2.1.1 in /usr/local/lib/python3.11/dist-packages (from werkzeug>=1.0.1->tensorboard~=2.19.0->tensorflow==2.19.0->tensorflow_decision_forests) (3.0.2)\n",
            "Requirement already satisfied: markdown-it-py>=2.2.0 in /usr/local/lib/python3.11/dist-packages (from rich->keras>=3.5.0->tensorflow==2.19.0->tensorflow_decision_forests) (3.0.0)\n",
            "Requirement already satisfied: pygments<3.0.0,>=2.13.0 in /usr/local/lib/python3.11/dist-packages (from rich->keras>=3.5.0->tensorflow==2.19.0->tensorflow_decision_forests) (2.18.0)\n",
            "Requirement already satisfied: mdurl~=0.1 in /usr/local/lib/python3.11/dist-packages (from markdown-it-py>=2.2.0->rich->keras>=3.5.0->tensorflow==2.19.0->tensorflow_decision_forests) (0.1.2)\n"
          ]
        }
      ],
      "source": [
        "# Instalação necessária\n",
        "!pip install tensorflow_decision_forests\n",
        "\n",
        "import pandas as pd\n",
        "import tensorflow_decision_forests as tfdf\n",
        "import tensorflow as tf\n",
        "\n",
        "from sklearn.model_selection import train_test_split\n",
        "from sklearn.metrics import classification_report, confusion_matrix"
      ]
    },
    {
      "cell_type": "code",
      "source": [
        "# Carregar os dados tratados\n",
        "df = pd.read_csv(\"Detec-o-precoce-de-AVCs/Data/Stroke.csv\")\n",
        "\n",
        "# Separar X e y\n",
        "X = df.drop('stroke', axis=1)\n",
        "y = df['stroke']"
      ],
      "metadata": {
        "id": "JIjFIf-4dIPQ"
      },
      "execution_count": 36,
      "outputs": []
    },
    {
      "cell_type": "code",
      "source": [
        "# Dividir em treino e teste\n",
        "X_train, X_test, y_train, y_test = train_test_split(\n",
        "    X, y, test_size=0.2, random_state=42\n",
        ")"
      ],
      "metadata": {
        "id": "Ted9DOYpdK-4"
      },
      "execution_count": 37,
      "outputs": []
    },
    {
      "cell_type": "code",
      "source": [
        "# Reunir novamente para uso no TFDF\n",
        "train_df = X_train.copy()\n",
        "train_df['stroke'] = y_train\n",
        "\n",
        "test_df = X_test.copy()\n",
        "test_df['stroke'] = y_test\n",
        "\n",
        "# Converter para dataset do TFDF\n",
        "train_ds = tfdf.keras.pd_dataframe_to_tf_dataset(train_df, label=\"stroke\")\n",
        "test_ds = tfdf.keras.pd_dataframe_to_tf_dataset(test_df, label=\"stroke\")"
      ],
      "metadata": {
        "colab": {
          "base_uri": "https://localhost:8080/"
        },
        "id": "d__RV-G4dL9P",
        "outputId": "69e93cd9-3c30-4ed5-8c27-eea6f09d25c6"
      },
      "execution_count": 38,
      "outputs": [
        {
          "output_type": "stream",
          "name": "stdout",
          "text": [
            "Warning: Some of the feature names have been changed automatically to be compatible with SavedModels because fix_feature_names=True.\n"
          ]
        },
        {
          "output_type": "stream",
          "name": "stderr",
          "text": [
            "WARNING:absl:Some of the feature names have been changed automatically to be compatible with SavedModels because fix_feature_names=True.\n"
          ]
        },
        {
          "output_type": "stream",
          "name": "stdout",
          "text": [
            "Warning: Some of the feature names have been changed automatically to be compatible with SavedModels because fix_feature_names=True.\n"
          ]
        },
        {
          "output_type": "stream",
          "name": "stderr",
          "text": [
            "WARNING:absl:Some of the feature names have been changed automatically to be compatible with SavedModels because fix_feature_names=True.\n"
          ]
        }
      ]
    },
    {
      "cell_type": "code",
      "source": [
        "# Selecionando melhor número de árvores\n",
        "\n",
        "best_score = 0\n",
        "best_k = 0\n",
        "\n",
        "for num_trees in range(10, 301, 10):\n",
        "    print(f\"Treinando com num_trees={num_trees}...\")\n",
        "\n",
        "    model = tfdf.keras.RandomForestModel(num_trees=num_trees, random_seed=42)\n",
        "    model.fit(train_ds)\n",
        "\n",
        "    # Compile the model with the desired metric\n",
        "    model.compile(metrics=[\"accuracy\"])\n",
        "\n",
        "    evaluation = model.evaluate(test_ds, return_dict=True)  # Remove metrics argument\n",
        "    accuracy = evaluation[\"accuracy\"]  # Pegando a métrica de acurácia\n",
        "\n",
        "    print(f\"Acurácia para num_trees={num_trees}: {accuracy:.4f}\")\n",
        "\n",
        "    if accuracy > best_score:\n",
        "        best_score = accuracy\n",
        "        best_k = num_trees\n",
        "\n",
        "print(f\"\\nMelhor num_trees encontrado: {best_k} com acurácia {best_score:.4f}\")"
      ],
      "metadata": {
        "colab": {
          "base_uri": "https://localhost:8080/"
        },
        "id": "bBH-ScVO1RRg",
        "outputId": "fbec541e-02d4-4664-a12b-b44333e2d695"
      },
      "execution_count": 39,
      "outputs": [
        {
          "output_type": "stream",
          "name": "stdout",
          "text": [
            "Treinando com num_trees=10...\n",
            "Use /tmp/tmp4kpqisz_ as temporary training directory\n",
            "Reading training dataset...\n",
            "Training dataset read in 0:00:00.904273. Found 7572 examples.\n",
            "Training model...\n",
            "Model trained in 0:00:00.425359\n",
            "Compiling model...\n",
            "Model compiled.\n",
            "2/2 [==============================] - 1s 106ms/step - loss: 0.0000e+00 - accuracy: 0.9636\n",
            "Acurácia para num_trees=10: 0.9636\n",
            "Treinando com num_trees=20...\n",
            "Use /tmp/tmputn7bh5q as temporary training directory\n",
            "Reading training dataset...\n",
            "Training dataset read in 0:00:05.066428. Found 7572 examples.\n",
            "Training model...\n",
            "Model trained in 0:00:01.531627\n",
            "Compiling model...\n",
            "Model compiled.\n",
            "2/2 [==============================] - 1s 180ms/step - loss: 0.0000e+00 - accuracy: 0.9530\n",
            "Acurácia para num_trees=20: 0.9530\n",
            "Treinando com num_trees=30...\n",
            "Use /tmp/tmp2r96d_8x as temporary training directory\n",
            "Reading training dataset...\n",
            "Training dataset read in 0:00:02.513178. Found 7572 examples.\n",
            "Training model...\n",
            "Model trained in 0:00:02.321190\n",
            "Compiling model...\n",
            "Model compiled.\n",
            "2/2 [==============================] - 1s 78ms/step - loss: 0.0000e+00 - accuracy: 0.9652\n",
            "Acurácia para num_trees=30: 0.9652\n",
            "Treinando com num_trees=40...\n",
            "Use /tmp/tmp7jc39lu1 as temporary training directory\n",
            "Reading training dataset...\n",
            "Training dataset read in 0:00:03.217493. Found 7572 examples.\n",
            "Training model...\n",
            "Model trained in 0:00:02.474869\n",
            "Compiling model...\n",
            "Model compiled.\n",
            "2/2 [==============================] - 1s 145ms/step - loss: 0.0000e+00 - accuracy: 0.9609\n",
            "Acurácia para num_trees=40: 0.9609\n",
            "Treinando com num_trees=50...\n",
            "Use /tmp/tmpl0wmps0x as temporary training directory\n",
            "Reading training dataset...\n",
            "Training dataset read in 0:00:02.927450. Found 7572 examples.\n",
            "Training model...\n",
            "Model trained in 0:00:03.560586\n",
            "Compiling model...\n",
            "Model compiled.\n",
            "2/2 [==============================] - 1s 46ms/step - loss: 0.0000e+00 - accuracy: 0.9620\n",
            "Acurácia para num_trees=50: 0.9620\n",
            "Treinando com num_trees=60...\n",
            "Use /tmp/tmp8icd3jo5 as temporary training directory\n",
            "Reading training dataset...\n",
            "Training dataset read in 0:00:04.030907. Found 7572 examples.\n",
            "Training model...\n",
            "Model trained in 0:00:04.114614\n",
            "Compiling model...\n",
            "Model compiled.\n",
            "2/2 [==============================] - 1s 108ms/step - loss: 0.0000e+00 - accuracy: 0.9599\n",
            "Acurácia para num_trees=60: 0.9599\n",
            "Treinando com num_trees=70...\n",
            "Use /tmp/tmpjvye68r9 as temporary training directory\n",
            "Reading training dataset...\n",
            "Training dataset read in 0:00:04.354738. Found 7572 examples.\n",
            "Training model...\n",
            "Model trained in 0:00:04.646168\n",
            "Compiling model...\n",
            "Model compiled.\n",
            "2/2 [==============================] - 1s 42ms/step - loss: 0.0000e+00 - accuracy: 0.9609\n",
            "Acurácia para num_trees=70: 0.9609\n",
            "Treinando com num_trees=80...\n",
            "Use /tmp/tmpz092pboc as temporary training directory\n",
            "Reading training dataset...\n",
            "Training dataset read in 0:00:04.026727. Found 7572 examples.\n",
            "Training model...\n",
            "Model trained in 0:00:03.027854\n",
            "Compiling model...\n",
            "Model compiled.\n",
            "2/2 [==============================] - 0s 19ms/step - loss: 0.0000e+00 - accuracy: 0.9593\n",
            "Acurácia para num_trees=80: 0.9593\n",
            "Treinando com num_trees=90...\n",
            "Use /tmp/tmps3ablwxj as temporary training directory\n",
            "Reading training dataset...\n",
            "Training dataset read in 0:00:00.425417. Found 7572 examples.\n",
            "Training model...\n",
            "Model trained in 0:00:01.403192\n",
            "Compiling model...\n",
            "Model compiled.\n",
            "2/2 [==============================] - 0s 20ms/step - loss: 0.0000e+00 - accuracy: 0.9599\n",
            "Acurácia para num_trees=90: 0.9599\n",
            "Treinando com num_trees=100...\n",
            "Use /tmp/tmp367ik6si as temporary training directory\n",
            "Reading training dataset...\n",
            "Training dataset read in 0:00:00.448216. Found 7572 examples.\n",
            "Training model...\n",
            "Model trained in 0:00:01.527083\n",
            "Compiling model...\n",
            "Model compiled.\n",
            "2/2 [==============================] - 0s 17ms/step - loss: 0.0000e+00 - accuracy: 0.9599\n",
            "Acurácia para num_trees=100: 0.9599\n",
            "Treinando com num_trees=110...\n",
            "Use /tmp/tmp9jcs0rd9 as temporary training directory\n",
            "Reading training dataset...\n",
            "Training dataset read in 0:00:01.696545. Found 7572 examples.\n",
            "Training model...\n",
            "Model trained in 0:00:02.990964\n",
            "Compiling model...\n",
            "Model compiled.\n",
            "2/2 [==============================] - 0s 18ms/step - loss: 0.0000e+00 - accuracy: 0.9604\n",
            "Acurácia para num_trees=110: 0.9604\n",
            "Treinando com num_trees=120...\n",
            "Use /tmp/tmpjyiw43ev as temporary training directory\n",
            "Reading training dataset...\n",
            "Training dataset read in 0:00:00.464047. Found 7572 examples.\n",
            "Training model...\n",
            "Model trained in 0:00:01.816095\n",
            "Compiling model...\n",
            "Model compiled.\n",
            "2/2 [==============================] - 0s 18ms/step - loss: 0.0000e+00 - accuracy: 0.9604\n",
            "Acurácia para num_trees=120: 0.9604\n",
            "Treinando com num_trees=130...\n",
            "Use /tmp/tmpwjqz379b as temporary training directory\n",
            "Reading training dataset...\n",
            "Training dataset read in 0:00:00.465953. Found 7572 examples.\n",
            "Training model...\n",
            "Model trained in 0:00:01.997291\n",
            "Compiling model...\n",
            "Model compiled.\n",
            "2/2 [==============================] - 0s 21ms/step - loss: 0.0000e+00 - accuracy: 0.9609\n",
            "Acurácia para num_trees=130: 0.9609\n",
            "Treinando com num_trees=140...\n",
            "Use /tmp/tmpwpx9gvad as temporary training directory\n",
            "Reading training dataset...\n",
            "Training dataset read in 0:00:00.442226. Found 7572 examples.\n",
            "Training model...\n",
            "Model trained in 0:00:02.093160\n",
            "Compiling model...\n",
            "Model compiled.\n",
            "2/2 [==============================] - 0s 24ms/step - loss: 0.0000e+00 - accuracy: 0.9578\n",
            "Acurácia para num_trees=140: 0.9578\n",
            "Treinando com num_trees=150...\n",
            "Use /tmp/tmp0oc9ulk4 as temporary training directory\n",
            "Reading training dataset...\n",
            "Training dataset read in 0:00:00.654091. Found 7572 examples.\n",
            "Training model...\n",
            "Model trained in 0:00:03.282345\n",
            "Compiling model...\n",
            "Model compiled.\n",
            "2/2 [==============================] - 0s 21ms/step - loss: 0.0000e+00 - accuracy: 0.9593\n",
            "Acurácia para num_trees=150: 0.9593\n",
            "Treinando com num_trees=160...\n",
            "Use /tmp/tmplbc6mb_n as temporary training directory\n",
            "Reading training dataset...\n",
            "Training dataset read in 0:00:00.467959. Found 7572 examples.\n",
            "Training model...\n",
            "Model trained in 0:00:02.357756\n",
            "Compiling model...\n",
            "Model compiled.\n",
            "2/2 [==============================] - 0s 21ms/step - loss: 0.0000e+00 - accuracy: 0.9604\n",
            "Acurácia para num_trees=160: 0.9604\n",
            "Treinando com num_trees=170...\n",
            "Use /tmp/tmpo4mgpj1o as temporary training directory\n",
            "Reading training dataset...\n",
            "Training dataset read in 0:00:00.433465. Found 7572 examples.\n",
            "Training model...\n",
            "Model trained in 0:00:02.546988\n",
            "Compiling model...\n",
            "Model compiled.\n",
            "2/2 [==============================] - 0s 23ms/step - loss: 0.0000e+00 - accuracy: 0.9593\n",
            "Acurácia para num_trees=170: 0.9593\n",
            "Treinando com num_trees=180...\n",
            "Use /tmp/tmpet6e_4tt as temporary training directory\n",
            "Reading training dataset...\n",
            "Training dataset read in 0:00:00.471248. Found 7572 examples.\n",
            "Training model...\n",
            "Model trained in 0:00:03.290472\n",
            "Compiling model...\n",
            "Model compiled.\n",
            "2/2 [==============================] - 0s 25ms/step - loss: 0.0000e+00 - accuracy: 0.9578\n",
            "Acurácia para num_trees=180: 0.9578\n",
            "Treinando com num_trees=190...\n",
            "Use /tmp/tmpffv0w0cn as temporary training directory\n",
            "Reading training dataset...\n",
            "Training dataset read in 0:00:00.471187. Found 7572 examples.\n",
            "Training model...\n",
            "Model trained in 0:00:02.823681\n",
            "Compiling model...\n",
            "Model compiled.\n",
            "2/2 [==============================] - 0s 25ms/step - loss: 0.0000e+00 - accuracy: 0.9599\n",
            "Acurácia para num_trees=190: 0.9599\n",
            "Treinando com num_trees=200...\n",
            "Use /tmp/tmpztad9lyv as temporary training directory\n",
            "Reading training dataset...\n",
            "Training dataset read in 0:00:00.455424. Found 7572 examples.\n",
            "Training model...\n",
            "Model trained in 0:00:02.935900\n",
            "Compiling model...\n",
            "Model compiled.\n",
            "2/2 [==============================] - 0s 25ms/step - loss: 0.0000e+00 - accuracy: 0.9593\n",
            "Acurácia para num_trees=200: 0.9593\n",
            "Treinando com num_trees=210...\n",
            "Use /tmp/tmp0p3vu0d0 as temporary training directory\n",
            "Reading training dataset...\n",
            "Training dataset read in 0:00:00.481807. Found 7572 examples.\n",
            "Training model...\n",
            "Model trained in 0:00:04.329622\n",
            "Compiling model...\n",
            "Model compiled.\n",
            "2/2 [==============================] - 0s 28ms/step - loss: 0.0000e+00 - accuracy: 0.9599\n",
            "Acurácia para num_trees=210: 0.9599\n",
            "Treinando com num_trees=220...\n",
            "Use /tmp/tmpaxw9fihu as temporary training directory\n",
            "Reading training dataset...\n",
            "Training dataset read in 0:00:00.451825. Found 7572 examples.\n",
            "Training model...\n",
            "Model trained in 0:00:03.248790\n",
            "Compiling model...\n",
            "Model compiled.\n",
            "2/2 [==============================] - 0s 28ms/step - loss: 0.0000e+00 - accuracy: 0.9593\n",
            "Acurácia para num_trees=220: 0.9593\n",
            "Treinando com num_trees=230...\n",
            "Use /tmp/tmptzb67gid as temporary training directory\n",
            "Reading training dataset...\n",
            "Training dataset read in 0:00:00.466705. Found 7572 examples.\n",
            "Training model...\n",
            "Model trained in 0:00:03.360702\n",
            "Compiling model...\n",
            "Model compiled.\n",
            "2/2 [==============================] - 0s 38ms/step - loss: 0.0000e+00 - accuracy: 0.9583\n",
            "Acurácia para num_trees=230: 0.9583\n",
            "Treinando com num_trees=240...\n",
            "Use /tmp/tmpix1jhs5g as temporary training directory\n",
            "Reading training dataset...\n",
            "Training dataset read in 0:00:00.469586. Found 7572 examples.\n",
            "Training model...\n",
            "Model trained in 0:00:04.749165\n",
            "Compiling model...\n",
            "Model compiled.\n",
            "2/2 [==============================] - 0s 28ms/step - loss: 0.0000e+00 - accuracy: 0.9593\n",
            "Acurácia para num_trees=240: 0.9593\n",
            "Treinando com num_trees=250...\n",
            "Use /tmp/tmp_caknrxp as temporary training directory\n",
            "Reading training dataset...\n",
            "Training dataset read in 0:00:00.442210. Found 7572 examples.\n",
            "Training model...\n",
            "Model trained in 0:00:03.641508\n",
            "Compiling model...\n",
            "Model compiled.\n",
            "2/2 [==============================] - 0s 32ms/step - loss: 0.0000e+00 - accuracy: 0.9588\n",
            "Acurácia para num_trees=250: 0.9588\n",
            "Treinando com num_trees=260...\n",
            "Use /tmp/tmpko41ca03 as temporary training directory\n",
            "Reading training dataset...\n",
            "Training dataset read in 0:00:00.460729. Found 7572 examples.\n",
            "Training model...\n",
            "Model trained in 0:00:04.377010\n",
            "Compiling model...\n",
            "Model compiled.\n",
            "2/2 [==============================] - 0s 31ms/step - loss: 0.0000e+00 - accuracy: 0.9593\n",
            "Acurácia para num_trees=260: 0.9593\n",
            "Treinando com num_trees=270...\n",
            "Use /tmp/tmpe1wnwj6m as temporary training directory\n",
            "Reading training dataset...\n",
            "Training dataset read in 0:00:00.440844. Found 7572 examples.\n",
            "Training model...\n",
            "Model trained in 0:00:03.901286\n",
            "Compiling model...\n",
            "Model compiled.\n",
            "2/2 [==============================] - 0s 33ms/step - loss: 0.0000e+00 - accuracy: 0.9599\n",
            "Acurácia para num_trees=270: 0.9599\n",
            "Treinando com num_trees=280...\n",
            "Use /tmp/tmpthchutyo as temporary training directory\n",
            "Reading training dataset...\n",
            "Training dataset read in 0:00:01.024208. Found 7572 examples.\n",
            "Training model...\n",
            "Model trained in 0:00:04.558041\n",
            "Compiling model...\n",
            "Model compiled.\n",
            "2/2 [==============================] - 0s 39ms/step - loss: 0.0000e+00 - accuracy: 0.9593\n",
            "Acurácia para num_trees=280: 0.9593\n",
            "Treinando com num_trees=290...\n",
            "Use /tmp/tmpzv9hsfy4 as temporary training directory\n",
            "Reading training dataset...\n",
            "Training dataset read in 0:00:00.428973. Found 7572 examples.\n",
            "Training model...\n",
            "Model trained in 0:00:04.281849\n",
            "Compiling model...\n",
            "Model compiled.\n",
            "2/2 [==============================] - 0s 59ms/step - loss: 0.0000e+00 - accuracy: 0.9593\n",
            "Acurácia para num_trees=290: 0.9593\n",
            "Treinando com num_trees=300...\n",
            "Use /tmp/tmpj7qk51yt as temporary training directory\n",
            "Reading training dataset...\n",
            "Training dataset read in 0:00:00.489191. Found 7572 examples.\n",
            "Training model...\n",
            "Model trained in 0:00:05.650562\n",
            "Compiling model...\n",
            "Model compiled.\n",
            "2/2 [==============================] - 0s 39ms/step - loss: 0.0000e+00 - accuracy: 0.9599\n",
            "Acurácia para num_trees=300: 0.9599\n",
            "\n",
            "Melhor num_trees encontrado: 30 com acurácia 0.9652\n"
          ]
        }
      ]
    },
    {
      "cell_type": "code",
      "source": [
        "# Avaliação\n",
        "evaluation = model.evaluate(test_ds, return_dict=True)\n",
        "print(f\"Avaliação no conjunto de teste: {evaluation}\")"
      ],
      "metadata": {
        "colab": {
          "base_uri": "https://localhost:8080/"
        },
        "id": "GmoDsvo1dOM_",
        "outputId": "b49c1b6e-63bc-45c7-dba4-88777d8723f1"
      },
      "execution_count": 41,
      "outputs": [
        {
          "output_type": "stream",
          "name": "stdout",
          "text": [
            "2/2 [==============================] - 0s 34ms/step - loss: 0.0000e+00 - accuracy: 0.9599\n",
            "Avaliação no conjunto de teste: {'loss': 0.0, 'accuracy': 0.9598732590675354}\n"
          ]
        }
      ]
    },
    {
      "cell_type": "code",
      "source": [
        "# Predição\n",
        "y_pred_proba = model.predict(test_ds)\n",
        "y_pred = (y_pred_proba > 0.5).astype(int).reshape(-1)"
      ],
      "metadata": {
        "colab": {
          "base_uri": "https://localhost:8080/"
        },
        "id": "S6cA9u4hdP7P",
        "outputId": "b1a89b4a-5efc-4741-af5d-78dc2ef3a3e0"
      },
      "execution_count": 42,
      "outputs": [
        {
          "output_type": "stream",
          "name": "stdout",
          "text": [
            "2/2 [==============================] - 0s 37ms/step\n"
          ]
        }
      ]
    },
    {
      "cell_type": "code",
      "source": [
        "# Relatórios\n",
        "print(\"\\nRelatório de Classificação:\\n\", classification_report(y_test, y_pred))\n",
        "print(\"Matriz de Confusão:\\n\", confusion_matrix(y_test, y_pred))"
      ],
      "metadata": {
        "colab": {
          "base_uri": "https://localhost:8080/"
        },
        "id": "F-iJsjaudQxY",
        "outputId": "92e6b489-4606-4ed7-d96a-df2aba35f547"
      },
      "execution_count": 43,
      "outputs": [
        {
          "output_type": "stream",
          "name": "stdout",
          "text": [
            "\n",
            "Relatório de Classificação:\n",
            "               precision    recall  f1-score   support\n",
            "\n",
            "           0       1.00      0.92      0.96       951\n",
            "           1       0.93      1.00      0.96       943\n",
            "\n",
            "    accuracy                           0.96      1894\n",
            "   macro avg       0.96      0.96      0.96      1894\n",
            "weighted avg       0.96      0.96      0.96      1894\n",
            "\n",
            "Matriz de Confusão:\n",
            " [[875  76]\n",
            " [  0 943]]\n"
          ]
        }
      ]
    }
  ]
}