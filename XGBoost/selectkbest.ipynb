{
 "cells": [
  {
   "cell_type": "code",
   "source": [
    "!git clone https://github.com/gabrielagcam/Detec-o-precoce-de-AVCs.git"
   ],
   "metadata": {
    "colab": {
     "base_uri": "https://localhost:8080/"
    },
    "id": "2KeVrTmhFVck",
    "outputId": "509c48d8-1f1f-4c9b-8848-4771a9261e46"
   },
   "id": "2KeVrTmhFVck",
   "execution_count": 2,
   "outputs": [
    {
     "output_type": "stream",
     "name": "stdout",
     "text": [
      "Cloning into 'Detec-o-precoce-de-AVCs'...\n",
      "remote: Enumerating objects: 124, done.\u001b[K\n",
      "remote: Counting objects: 100% (124/124), done.\u001b[K\n",
      "remote: Compressing objects: 100% (97/97), done.\u001b[K\n",
      "remote: Total 124 (delta 48), reused 42 (delta 10), pack-reused 0 (from 0)\u001b[K\n",
      "Receiving objects: 100% (124/124), 731.31 KiB | 9.03 MiB/s, done.\n",
      "Resolving deltas: 100% (48/48), done.\n"
     ]
    }
   ]
  },
  {
   "cell_type": "code",
   "execution_count": 4,
   "id": "08d4ee44",
   "metadata": {
    "colab": {
     "base_uri": "https://localhost:8080/"
    },
    "id": "08d4ee44",
    "outputId": "30e85f46-e1dd-4e96-8fb6-48ea1eda7c01"
   },
   "outputs": [
    {
     "output_type": "stream",
     "name": "stdout",
     "text": [
      "\n",
      "Avaliação com k = 1 (Seleção das 1 melhores features):\n",
      "              precision    recall  f1-score   support\n",
      "\n",
      "           0       0.84      0.69      0.76       951\n",
      "           1       0.73      0.86      0.79       943\n",
      "\n",
      "    accuracy                           0.78      1894\n",
      "   macro avg       0.79      0.78      0.78      1894\n",
      "weighted avg       0.79      0.78      0.78      1894\n",
      "\n",
      "Acurácia: 0.7772\n",
      "\n",
      "Avaliação com k = 2 (Seleção das 2 melhores features):\n"
     ]
    },
    {
     "output_type": "stream",
     "name": "stderr",
     "text": [
      "/usr/local/lib/python3.11/dist-packages/xgboost/core.py:158: UserWarning: [23:17:16] WARNING: /workspace/src/learner.cc:740: \n",
      "Parameters: { \"use_label_encoder\" } are not used.\n",
      "\n",
      "  warnings.warn(smsg, UserWarning)\n",
      "/usr/local/lib/python3.11/dist-packages/xgboost/core.py:158: UserWarning: [23:17:16] WARNING: /workspace/src/learner.cc:740: \n",
      "Parameters: { \"use_label_encoder\" } are not used.\n",
      "\n",
      "  warnings.warn(smsg, UserWarning)\n"
     ]
    },
    {
     "output_type": "stream",
     "name": "stdout",
     "text": [
      "              precision    recall  f1-score   support\n",
      "\n",
      "           0       0.87      0.68      0.76       951\n",
      "           1       0.73      0.90      0.81       943\n",
      "\n",
      "    accuracy                           0.79      1894\n",
      "   macro avg       0.80      0.79      0.79      1894\n",
      "weighted avg       0.80      0.79      0.79      1894\n",
      "\n",
      "Acurácia: 0.7878\n",
      "\n",
      "Avaliação com k = 3 (Seleção das 3 melhores features):\n",
      "              precision    recall  f1-score   support\n",
      "\n",
      "           0       0.87      0.68      0.76       951\n",
      "           1       0.73      0.90      0.81       943\n",
      "\n",
      "    accuracy                           0.79      1894\n",
      "   macro avg       0.80      0.79      0.79      1894\n",
      "weighted avg       0.80      0.79      0.79      1894\n",
      "\n",
      "Acurácia: 0.7878\n",
      "\n",
      "Avaliação com k = 4 (Seleção das 4 melhores features):\n"
     ]
    },
    {
     "output_type": "stream",
     "name": "stderr",
     "text": [
      "/usr/local/lib/python3.11/dist-packages/xgboost/core.py:158: UserWarning: [23:17:16] WARNING: /workspace/src/learner.cc:740: \n",
      "Parameters: { \"use_label_encoder\" } are not used.\n",
      "\n",
      "  warnings.warn(smsg, UserWarning)\n",
      "/usr/local/lib/python3.11/dist-packages/xgboost/core.py:158: UserWarning: [23:17:16] WARNING: /workspace/src/learner.cc:740: \n",
      "Parameters: { \"use_label_encoder\" } are not used.\n",
      "\n",
      "  warnings.warn(smsg, UserWarning)\n"
     ]
    },
    {
     "output_type": "stream",
     "name": "stdout",
     "text": [
      "              precision    recall  f1-score   support\n",
      "\n",
      "           0       1.00      0.87      0.93       951\n",
      "           1       0.89      1.00      0.94       943\n",
      "\n",
      "    accuracy                           0.94      1894\n",
      "   macro avg       0.94      0.94      0.94      1894\n",
      "weighted avg       0.94      0.94      0.94      1894\n",
      "\n",
      "Acurácia: 0.9372\n",
      "\n",
      "Avaliação com k = 5 (Seleção das 5 melhores features):\n",
      "              precision    recall  f1-score   support\n",
      "\n",
      "           0       1.00      0.87      0.93       951\n",
      "           1       0.89      1.00      0.94       943\n",
      "\n",
      "    accuracy                           0.94      1894\n",
      "   macro avg       0.94      0.94      0.94      1894\n",
      "weighted avg       0.94      0.94      0.94      1894\n",
      "\n",
      "Acurácia: 0.9372\n",
      "\n",
      "Avaliação com k = 6 (Seleção das 6 melhores features):\n"
     ]
    },
    {
     "output_type": "stream",
     "name": "stderr",
     "text": [
      "/usr/local/lib/python3.11/dist-packages/xgboost/core.py:158: UserWarning: [23:17:16] WARNING: /workspace/src/learner.cc:740: \n",
      "Parameters: { \"use_label_encoder\" } are not used.\n",
      "\n",
      "  warnings.warn(smsg, UserWarning)\n",
      "/usr/local/lib/python3.11/dist-packages/xgboost/core.py:158: UserWarning: [23:17:16] WARNING: /workspace/src/learner.cc:740: \n",
      "Parameters: { \"use_label_encoder\" } are not used.\n",
      "\n",
      "  warnings.warn(smsg, UserWarning)\n"
     ]
    },
    {
     "output_type": "stream",
     "name": "stdout",
     "text": [
      "              precision    recall  f1-score   support\n",
      "\n",
      "           0       1.00      0.87      0.93       951\n",
      "           1       0.89      1.00      0.94       943\n",
      "\n",
      "    accuracy                           0.94      1894\n",
      "   macro avg       0.94      0.94      0.94      1894\n",
      "weighted avg       0.94      0.94      0.94      1894\n",
      "\n",
      "Acurácia: 0.9366\n",
      "\n",
      "Avaliação com k = 7 (Seleção das 7 melhores features):\n",
      "              precision    recall  f1-score   support\n",
      "\n",
      "           0       1.00      0.87      0.93       951\n",
      "           1       0.89      1.00      0.94       943\n",
      "\n",
      "    accuracy                           0.94      1894\n",
      "   macro avg       0.94      0.94      0.94      1894\n",
      "weighted avg       0.94      0.94      0.94      1894\n",
      "\n",
      "Acurácia: 0.9366\n",
      "\n",
      "Avaliação com k = 8 (Seleção das 8 melhores features):\n"
     ]
    },
    {
     "output_type": "stream",
     "name": "stderr",
     "text": [
      "/usr/local/lib/python3.11/dist-packages/xgboost/core.py:158: UserWarning: [23:17:17] WARNING: /workspace/src/learner.cc:740: \n",
      "Parameters: { \"use_label_encoder\" } are not used.\n",
      "\n",
      "  warnings.warn(smsg, UserWarning)\n",
      "/usr/local/lib/python3.11/dist-packages/xgboost/core.py:158: UserWarning: [23:17:17] WARNING: /workspace/src/learner.cc:740: \n",
      "Parameters: { \"use_label_encoder\" } are not used.\n",
      "\n",
      "  warnings.warn(smsg, UserWarning)\n"
     ]
    },
    {
     "output_type": "stream",
     "name": "stdout",
     "text": [
      "              precision    recall  f1-score   support\n",
      "\n",
      "           0       1.00      0.91      0.95       951\n",
      "           1       0.91      1.00      0.95       943\n",
      "\n",
      "    accuracy                           0.95      1894\n",
      "   macro avg       0.96      0.95      0.95      1894\n",
      "weighted avg       0.96      0.95      0.95      1894\n",
      "\n",
      "Acurácia: 0.9525\n",
      "\n",
      "Avaliação com k = 9 (Seleção das 9 melhores features):\n",
      "              precision    recall  f1-score   support\n",
      "\n",
      "           0       1.00      0.90      0.95       951\n",
      "           1       0.91      1.00      0.95       943\n",
      "\n",
      "    accuracy                           0.95      1894\n",
      "   macro avg       0.95      0.95      0.95      1894\n",
      "weighted avg       0.95      0.95      0.95      1894\n",
      "\n",
      "Acurácia: 0.9498\n",
      "\n",
      "Avaliação com k = 10 (Seleção das 10 melhores features):\n"
     ]
    },
    {
     "output_type": "stream",
     "name": "stderr",
     "text": [
      "/usr/local/lib/python3.11/dist-packages/xgboost/core.py:158: UserWarning: [23:17:17] WARNING: /workspace/src/learner.cc:740: \n",
      "Parameters: { \"use_label_encoder\" } are not used.\n",
      "\n",
      "  warnings.warn(smsg, UserWarning)\n",
      "/usr/local/lib/python3.11/dist-packages/xgboost/core.py:158: UserWarning: [23:17:17] WARNING: /workspace/src/learner.cc:740: \n",
      "Parameters: { \"use_label_encoder\" } are not used.\n",
      "\n",
      "  warnings.warn(smsg, UserWarning)\n"
     ]
    },
    {
     "output_type": "stream",
     "name": "stdout",
     "text": [
      "              precision    recall  f1-score   support\n",
      "\n",
      "           0       1.00      0.90      0.95       951\n",
      "           1       0.90      1.00      0.95       943\n",
      "\n",
      "    accuracy                           0.95      1894\n",
      "   macro avg       0.95      0.95      0.95      1894\n",
      "weighted avg       0.95      0.95      0.95      1894\n",
      "\n",
      "Acurácia: 0.9477\n",
      "\n",
      "Avaliação com k = 11 (Seleção das 11 melhores features):\n",
      "              precision    recall  f1-score   support\n",
      "\n",
      "           0       1.00      0.91      0.95       951\n",
      "           1       0.91      1.00      0.95       943\n",
      "\n",
      "    accuracy                           0.95      1894\n",
      "   macro avg       0.96      0.95      0.95      1894\n",
      "weighted avg       0.96      0.95      0.95      1894\n",
      "\n",
      "Acurácia: 0.9525\n",
      "\n",
      "Avaliação com k = 12 (Seleção das 12 melhores features):\n"
     ]
    },
    {
     "output_type": "stream",
     "name": "stderr",
     "text": [
      "/usr/local/lib/python3.11/dist-packages/xgboost/core.py:158: UserWarning: [23:17:17] WARNING: /workspace/src/learner.cc:740: \n",
      "Parameters: { \"use_label_encoder\" } are not used.\n",
      "\n",
      "  warnings.warn(smsg, UserWarning)\n",
      "/usr/local/lib/python3.11/dist-packages/xgboost/core.py:158: UserWarning: [23:17:17] WARNING: /workspace/src/learner.cc:740: \n",
      "Parameters: { \"use_label_encoder\" } are not used.\n",
      "\n",
      "  warnings.warn(smsg, UserWarning)\n"
     ]
    },
    {
     "output_type": "stream",
     "name": "stdout",
     "text": [
      "              precision    recall  f1-score   support\n",
      "\n",
      "           0       1.00      0.91      0.95       951\n",
      "           1       0.92      1.00      0.96       943\n",
      "\n",
      "    accuracy                           0.95      1894\n",
      "   macro avg       0.96      0.95      0.95      1894\n",
      "weighted avg       0.96      0.95      0.95      1894\n",
      "\n",
      "Acurácia: 0.9546\n",
      "\n",
      "Avaliação com k = 13 (Seleção das 13 melhores features):\n",
      "              precision    recall  f1-score   support\n",
      "\n",
      "           0       1.00      0.91      0.95       951\n",
      "           1       0.92      1.00      0.96       943\n",
      "\n",
      "    accuracy                           0.95      1894\n",
      "   macro avg       0.96      0.95      0.95      1894\n",
      "weighted avg       0.96      0.95      0.95      1894\n",
      "\n",
      "Acurácia: 0.9546\n",
      "\n",
      "Avaliação com k = 14 (Seleção das 14 melhores features):\n"
     ]
    },
    {
     "output_type": "stream",
     "name": "stderr",
     "text": [
      "/usr/local/lib/python3.11/dist-packages/xgboost/core.py:158: UserWarning: [23:17:17] WARNING: /workspace/src/learner.cc:740: \n",
      "Parameters: { \"use_label_encoder\" } are not used.\n",
      "\n",
      "  warnings.warn(smsg, UserWarning)\n",
      "/usr/local/lib/python3.11/dist-packages/xgboost/core.py:158: UserWarning: [23:17:18] WARNING: /workspace/src/learner.cc:740: \n",
      "Parameters: { \"use_label_encoder\" } are not used.\n",
      "\n",
      "  warnings.warn(smsg, UserWarning)\n"
     ]
    },
    {
     "output_type": "stream",
     "name": "stdout",
     "text": [
      "              precision    recall  f1-score   support\n",
      "\n",
      "           0       1.00      0.91      0.96       951\n",
      "           1       0.92      1.00      0.96       943\n",
      "\n",
      "    accuracy                           0.96      1894\n",
      "   macro avg       0.96      0.96      0.96      1894\n",
      "weighted avg       0.96      0.96      0.96      1894\n",
      "\n",
      "Acurácia: 0.9572\n",
      "\n",
      "Avaliação com k = 15 (Seleção das 15 melhores features):\n",
      "              precision    recall  f1-score   support\n",
      "\n",
      "           0       1.00      0.90      0.95       951\n",
      "           1       0.91      1.00      0.95       943\n",
      "\n",
      "    accuracy                           0.95      1894\n",
      "   macro avg       0.95      0.95      0.95      1894\n",
      "weighted avg       0.95      0.95      0.95      1894\n",
      "\n",
      "Acurácia: 0.9498\n",
      "\n",
      "Avaliação com k = 16 (Seleção das 16 melhores features):\n"
     ]
    },
    {
     "output_type": "stream",
     "name": "stderr",
     "text": [
      "/usr/local/lib/python3.11/dist-packages/xgboost/core.py:158: UserWarning: [23:17:18] WARNING: /workspace/src/learner.cc:740: \n",
      "Parameters: { \"use_label_encoder\" } are not used.\n",
      "\n",
      "  warnings.warn(smsg, UserWarning)\n",
      "/usr/local/lib/python3.11/dist-packages/xgboost/core.py:158: UserWarning: [23:17:18] WARNING: /workspace/src/learner.cc:740: \n",
      "Parameters: { \"use_label_encoder\" } are not used.\n",
      "\n",
      "  warnings.warn(smsg, UserWarning)\n"
     ]
    },
    {
     "output_type": "stream",
     "name": "stdout",
     "text": [
      "              precision    recall  f1-score   support\n",
      "\n",
      "           0       1.00      0.91      0.95       951\n",
      "           1       0.92      1.00      0.96       943\n",
      "\n",
      "    accuracy                           0.95      1894\n",
      "   macro avg       0.96      0.95      0.95      1894\n",
      "weighted avg       0.96      0.95      0.95      1894\n",
      "\n",
      "Acurácia: 0.9546\n",
      "\n",
      "Avaliação com k = 17 (Seleção das 17 melhores features):\n",
      "              precision    recall  f1-score   support\n",
      "\n",
      "           0       1.00      0.91      0.95       951\n",
      "           1       0.92      1.00      0.96       943\n",
      "\n",
      "    accuracy                           0.95      1894\n",
      "   macro avg       0.96      0.95      0.95      1894\n",
      "weighted avg       0.96      0.95      0.95      1894\n",
      "\n",
      "Acurácia: 0.9546\n",
      "\n",
      "Avaliação com k = 18 (Seleção das 18 melhores features):\n"
     ]
    },
    {
     "output_type": "stream",
     "name": "stderr",
     "text": [
      "/usr/local/lib/python3.11/dist-packages/xgboost/core.py:158: UserWarning: [23:17:18] WARNING: /workspace/src/learner.cc:740: \n",
      "Parameters: { \"use_label_encoder\" } are not used.\n",
      "\n",
      "  warnings.warn(smsg, UserWarning)\n",
      "/usr/local/lib/python3.11/dist-packages/xgboost/core.py:158: UserWarning: [23:17:18] WARNING: /workspace/src/learner.cc:740: \n",
      "Parameters: { \"use_label_encoder\" } are not used.\n",
      "\n",
      "  warnings.warn(smsg, UserWarning)\n"
     ]
    },
    {
     "output_type": "stream",
     "name": "stdout",
     "text": [
      "              precision    recall  f1-score   support\n",
      "\n",
      "           0       1.00      0.91      0.95       951\n",
      "           1       0.91      1.00      0.96       943\n",
      "\n",
      "    accuracy                           0.95      1894\n",
      "   macro avg       0.96      0.95      0.95      1894\n",
      "weighted avg       0.96      0.95      0.95      1894\n",
      "\n",
      "Acurácia: 0.9535\n",
      "\n",
      "Avaliação com k = 19 (Seleção das 19 melhores features):\n",
      "              precision    recall  f1-score   support\n",
      "\n",
      "           0       1.00      0.92      0.96       951\n",
      "           1       0.92      1.00      0.96       943\n",
      "\n",
      "    accuracy                           0.96      1894\n",
      "   macro avg       0.96      0.96      0.96      1894\n",
      "weighted avg       0.96      0.96      0.96      1894\n",
      "\n",
      "Acurácia: 0.9578\n"
     ]
    },
    {
     "output_type": "stream",
     "name": "stderr",
     "text": [
      "/usr/local/lib/python3.11/dist-packages/xgboost/core.py:158: UserWarning: [23:17:18] WARNING: /workspace/src/learner.cc:740: \n",
      "Parameters: { \"use_label_encoder\" } are not used.\n",
      "\n",
      "  warnings.warn(smsg, UserWarning)\n"
     ]
    }
   ],
   "source": [
    "import pandas as pd\n",
    "import numpy as np\n",
    "from sklearn.model_selection import train_test_split\n",
    "from sklearn.feature_selection import SelectKBest, f_classif\n",
    "from sklearn.ensemble import RandomForestClassifier\n",
    "from sklearn.metrics import classification_report\n",
    "from sklearn.pipeline import Pipeline\n",
    "from sklearn.metrics import accuracy_score\n",
    "from xgboost import XGBClassifier\n",
    "\n",
    "# Carregar os dados tratados\n",
    "df = pd.read_csv(\"Detec-o-precoce-de-AVCs/Data/Stroke.csv\")\n",
    "\n",
    "# Separar X e y\n",
    "X = df.drop('stroke', axis=1)\n",
    "y = df['stroke']\n",
    "\n",
    "# Dividir em treino e teste\n",
    "X_train, X_test, y_train, y_test = train_test_split(\n",
    "    X, y, test_size=0.2, random_state=42\n",
    ")\n",
    "\n",
    "# Modelo XGBoost com parâmetros fixos\n",
    "xgb_model = XGBClassifier(use_label_encoder=False, eval_metric='logloss', random_state=42,\n",
    "                          n_estimators=50, max_depth=10, learning_rate=0.1)\n",
    "\n",
    "# Loop para testar SelectKBest para cada valor de k\n",
    "for k in range(1, X_train.shape[1] + 1):\n",
    "    print(f\"\\nAvaliação com k = {k} (Seleção das {k} melhores features):\")\n",
    "\n",
    "    skb = SelectKBest(score_func=f_classif, k=k)\n",
    "    X_train_k = skb.fit_transform(X_train, y_train)\n",
    "    X_test_k = skb.transform(X_test)\n",
    "\n",
    "    xgb_model.fit(X_train_k, y_train)\n",
    "    y_pred = xgb_model.predict(X_test_k)\n",
    "\n",
    "    print(classification_report(y_test, y_pred))\n",
    "    accuracy = accuracy_score(y_test, y_pred)\n",
    "    print(f\"Acurácia: {accuracy:.4f}\")\n"
   ]
  }
 ],
 "metadata": {
  "kernelspec": {
   "display_name": "base",
   "language": "python",
   "name": "python3"
  },
  "language_info": {
   "codemirror_mode": {
    "name": "ipython",
    "version": 3
   },
   "file_extension": ".py",
   "mimetype": "text/x-python",
   "name": "python",
   "nbconvert_exporter": "python",
   "pygments_lexer": "ipython3",
   "version": "3.12.7"
  },
  "colab": {
   "provenance": []
  }
 },
 "nbformat": 4,
 "nbformat_minor": 5
}