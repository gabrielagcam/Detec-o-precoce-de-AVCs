{
 "cells": [
  {
   "cell_type": "code",
   "execution_count": 1,
   "id": "32b08152",
   "metadata": {},
   "outputs": [
    {
     "name": "stderr",
     "output_type": "stream",
     "text": [
      "c:\\Users\\Ruy\\anaconda3\\Lib\\site-packages\\tqdm_joblib\\__init__.py:4: TqdmExperimentalWarning: Using `tqdm.autonotebook.tqdm` in notebook mode. Use `tqdm.tqdm` instead to force console mode (e.g. in jupyter console)\n",
      "  from tqdm.autonotebook import tqdm\n"
     ]
    }
   ],
   "source": [
    "# Caso ainda não tenha instalado,\n",
    "# !pip install tqdm\n",
    "# !pip install tqdm_joblib\n",
    "\n",
    "import pandas as pd\n",
    "import numpy as np\n",
    "\n",
    "from sklearn.model_selection import train_test_split, GridSearchCV\n",
    "from sklearn.metrics import classification_report, confusion_matrix\n",
    "from sklearn.neighbors import KNeighborsClassifier\n",
    "\n",
    "# Importando as bibliotecas para paralelização e progress bar\n",
    "from tqdm import tqdm\n",
    "from tqdm_joblib import tqdm_joblib"
   ]
  },
  {
   "cell_type": "code",
   "execution_count": 2,
   "id": "6bfc1fe7",
   "metadata": {},
   "outputs": [],
   "source": [
    "# Carregar os dados tratados\n",
    "df = pd.read_csv(\"../Data/Stroke.csv\")"
   ]
  },
  {
   "cell_type": "code",
   "execution_count": 3,
   "id": "09312273",
   "metadata": {},
   "outputs": [],
   "source": [
    "# Separar X e y\n",
    "X = df.drop('stroke', axis=1)\n",
    "y = df['stroke']"
   ]
  },
  {
   "cell_type": "code",
   "execution_count": 4,
   "id": "2b807723",
   "metadata": {},
   "outputs": [],
   "source": [
    "# Divisão dos dados em treino e teste\n",
    "X_train, X_test, y_train, y_test = train_test_split(\n",
    "    X, y, test_size=0.2, random_state=42\n",
    ")"
   ]
  },
  {
   "cell_type": "code",
   "execution_count": 5,
   "id": "0bd02361",
   "metadata": {},
   "outputs": [],
   "source": [
    "# Configurando o classificador KNN\n",
    "knn_model = KNeighborsClassifier()\n",
    "\n",
    "# Definindo o grid de hiperparâmetros para o KNN\n",
    "param_grid = {\n",
    "    'n_neighbors': [ 5, 7, 9, 11],\n",
    "    'weights': ['uniform', 'distance'],\n",
    "    'algorithm': ['auto', 'ball_tree', 'kd_tree', 'brute'],\n",
    "    'p': [1, 2]  # 1 para Manhattan, 2 para Euclidiana\n",
    "}\n",
    "\n",
    "# Configurando o GridSearchCV com validação cruzada de 5 folds e paralelização (n_jobs=-1)\n",
    "grid_search = GridSearchCV(\n",
    "    estimator=knn_model,\n",
    "    param_grid=param_grid,\n",
    "    cv=5,\n",
    "    scoring='accuracy',\n",
    "    n_jobs=-1,\n",
    "    verbose=0  # O tqdm exibirá o progresso, então podemos deixar verbose=0\n",
    ")"
   ]
  },
  {
   "cell_type": "code",
   "execution_count": 6,
   "id": "42482512",
   "metadata": {},
   "outputs": [
    {
     "name": "stdout",
     "output_type": "stream",
     "text": [
      "Total de iterações estimadas: 320\n"
     ]
    },
    {
     "name": "stderr",
     "output_type": "stream",
     "text": [
      "GridSearchCV:   0%|          | 0/320 [00:00<?, ?it/s]"
     ]
    },
    {
     "data": {
      "application/vnd.jupyter.widget-view+json": {
       "model_id": "f3ecd399422c421087748746e261874b",
       "version_major": 2,
       "version_minor": 0
      },
      "text/plain": [
       "  0%|          | 0/320 [00:00<?, ?it/s]"
      ]
     },
     "metadata": {},
     "output_type": "display_data"
    }
   ],
   "source": [
    "# Calculando o total de iterações: número de combinações * número de folds\n",
    "total_iter = grid_search.cv * np.prod([len(v) for v in param_grid.values()])\n",
    "print(f\"Total de iterações estimadas: {total_iter}\")\n",
    "\n",
    "# Realizando o Grid Search com tqdm_joblib para monitorar o progresso\n",
    "with tqdm_joblib(tqdm(desc=\"GridSearchCV\", total=total_iter)) as progress_bar:\n",
    "    grid_search.fit(X_train, y_train)"
   ]
  },
  {
   "cell_type": "code",
   "execution_count": 7,
   "id": "ac713fec",
   "metadata": {},
   "outputs": [
    {
     "name": "stdout",
     "output_type": "stream",
     "text": [
      "Melhores hiperparâmetros: {'algorithm': 'kd_tree', 'n_neighbors': 5, 'p': 2, 'weights': 'distance'}\n",
      "Melhor acurácia: 0.920099489473386\n"
     ]
    }
   ],
   "source": [
    "print(\"Melhores hiperparâmetros:\", grid_search.best_params_)\n",
    "print(\"Melhor acurácia:\", grid_search.best_score_)"
   ]
  },
  {
   "cell_type": "code",
   "execution_count": 8,
   "id": "8d0ec36f",
   "metadata": {},
   "outputs": [
    {
     "name": "stdout",
     "output_type": "stream",
     "text": [
      "\n",
      "Relatório de Classificação:\n",
      "               precision    recall  f1-score   support\n",
      "\n",
      "           0       1.00      0.87      0.93       951\n",
      "           1       0.88      1.00      0.94       943\n",
      "\n",
      "    accuracy                           0.93      1894\n",
      "   macro avg       0.94      0.93      0.93      1894\n",
      "weighted avg       0.94      0.93      0.93      1894\n",
      "\n",
      "\n",
      "Matriz de Confusão:\n",
      " [[824 127]\n",
      " [  0 943]]\n"
     ]
    }
   ],
   "source": [
    "# Avaliação do modelo com os melhores hiperparâmetros\n",
    "best_model = grid_search.best_estimator_\n",
    "y_pred = best_model.predict(X_test)\n",
    "\n",
    "print(\"\\nRelatório de Classificação:\\n\", classification_report(y_test, y_pred))\n",
    "print(\"\\nMatriz de Confusão:\\n\", confusion_matrix(y_test, y_pred))"
   ]
  }
 ],
 "metadata": {
  "kernelspec": {
   "display_name": "base",
   "language": "python",
   "name": "python3"
  },
  "language_info": {
   "codemirror_mode": {
    "name": "ipython",
    "version": 3
   },
   "file_extension": ".py",
   "mimetype": "text/x-python",
   "name": "python",
   "nbconvert_exporter": "python",
   "pygments_lexer": "ipython3",
   "version": "3.12.7"
  }
 },
 "nbformat": 4,
 "nbformat_minor": 5
}
